{
 "cells": [
  {
   "cell_type": "markdown",
   "source": [
    "# Dictionary Methods\n",
    "- Dictionary uses several built-in methods for manipulation.They are listed below\n",
    "\n",
    "### update():\n",
    "> The update() method updates the value of the key provided to it if the item already exists in the dictionary, else it creates a new key-value pair.\n",
    "\n",
    "Example:"
   ],
   "metadata": {
    "collapsed": false
   },
   "id": "183344f9768de54"
  },
  {
   "cell_type": "code",
   "outputs": [
    {
     "data": {
      "text/plain": "{122: 45, 123: 89, 567: 69, 670: 69, 222: 67, 566: 90}"
     },
     "execution_count": 27,
     "metadata": {},
     "output_type": "execute_result"
    }
   ],
   "source": [
    "ep1 = {122: 45, 123: 89, 567: 69, 670: 69}\n",
    "ep2 = {222: 67, 566: 90}\n",
    "ep1.update(ep2)\n",
    "ep1"
   ],
   "metadata": {
    "collapsed": true,
    "ExecuteTime": {
     "end_time": "2024-02-01T09:36:09.557667600Z",
     "start_time": "2024-02-01T09:36:09.551484800Z"
    }
   },
   "id": "initial_id",
   "execution_count": 27
  },
  {
   "cell_type": "code",
   "outputs": [
    {
     "name": "stdout",
     "output_type": "stream",
     "text": [
      "{'name': 'Karan', 'age': 19, 'eligible': True}\n",
      "{'name': 'Rohan', 'age': 20, 'eligible': True}\n"
     ]
    }
   ],
   "source": [
    "info = {'name':'Karan', 'age':19, 'eligible':True}\n",
    "print(info)\n",
    "info.update({\"name\":\"Rohan\", \"age\":20})\n",
    "print(info)"
   ],
   "metadata": {
    "collapsed": false,
    "ExecuteTime": {
     "end_time": "2024-02-01T09:36:09.849046100Z",
     "start_time": "2024-02-01T09:36:09.846332100Z"
    }
   },
   "id": "1d3113b5b539ed53",
   "execution_count": 28
  },
  {
   "cell_type": "code",
   "outputs": [
    {
     "name": "stdout",
     "output_type": "stream",
     "text": [
      "{'name': 'Rohan', 'age': 21, 'eligible': True, 'DOB': 2003}\n"
     ]
    }
   ],
   "source": [
    "info.update({'age': 21})\n",
    "info.update({'DOB': 2003})\n",
    "print(info)"
   ],
   "metadata": {
    "collapsed": false,
    "ExecuteTime": {
     "end_time": "2024-02-01T09:36:10.044851100Z",
     "start_time": "2024-02-01T09:36:10.040328700Z"
    }
   },
   "id": "d0f1b91a8d34efce",
   "execution_count": 29
  },
  {
   "cell_type": "markdown",
   "source": [
    "# Removing items from dictionary:\n",
    "- There are a few methods that we can use to remove items from dictionary.\n",
    "\n",
    "### clear():\n",
    "> The clear() method removes all the items from the list.\n",
    "\n",
    "Example:"
   ],
   "metadata": {
    "collapsed": false
   },
   "id": "4d5609fddadd24b"
  },
  {
   "cell_type": "code",
   "outputs": [],
   "source": [
    "info.clear()"
   ],
   "metadata": {
    "collapsed": false,
    "ExecuteTime": {
     "end_time": "2024-02-01T09:36:10.374444100Z",
     "start_time": "2024-02-01T09:36:10.370769500Z"
    }
   },
   "id": "b18954b0b7e733ca",
   "execution_count": 30
  },
  {
   "cell_type": "code",
   "outputs": [
    {
     "name": "stdout",
     "output_type": "stream",
     "text": [
      "{}\n"
     ]
    }
   ],
   "source": [
    "print(info)"
   ],
   "metadata": {
    "collapsed": false,
    "ExecuteTime": {
     "end_time": "2024-02-01T09:36:10.723957200Z",
     "start_time": "2024-02-01T09:36:10.714410800Z"
    }
   },
   "id": "3a6640ee34ce310b",
   "execution_count": 31
  },
  {
   "cell_type": "markdown",
   "source": [
    "### popitem():\n",
    "> The popitem() method removes the last key-value pair from the dictionary.\n",
    "\n",
    "Example:"
   ],
   "metadata": {
    "collapsed": false
   },
   "id": "aba5004f86015a0e"
  },
  {
   "cell_type": "code",
   "outputs": [
    {
     "name": "stdout",
     "output_type": "stream",
     "text": [
      "{'name': 'Rohan', 'age': 21, 'DOB': 2003}\n"
     ]
    }
   ],
   "source": [
    "info = {'name': 'Rohan', 'age': 21, 'eligible': True, 'DOB': 2003}\n",
    "info.pop(\"eligible\")\n",
    "print(info)"
   ],
   "metadata": {
    "collapsed": false,
    "ExecuteTime": {
     "end_time": "2024-02-01T09:36:11.085543500Z",
     "start_time": "2024-02-01T09:36:11.080892200Z"
    }
   },
   "id": "70c075a188e5e2c5",
   "execution_count": 32
  },
  {
   "cell_type": "code",
   "outputs": [
    {
     "ename": "TypeError",
     "evalue": "pop expected at least 1 argument, got 0",
     "output_type": "error",
     "traceback": [
      "\u001B[1;31m---------------------------------------------------------------------------\u001B[0m",
      "\u001B[1;31mTypeError\u001B[0m                                 Traceback (most recent call last)",
      "Cell \u001B[1;32mIn[33], line 1\u001B[0m\n\u001B[1;32m----> 1\u001B[0m \u001B[43minfo\u001B[49m\u001B[38;5;241;43m.\u001B[39;49m\u001B[43mpop\u001B[49m\u001B[43m(\u001B[49m\u001B[43m)\u001B[49m \u001B[38;5;66;03m# it needs to pass at least one argument because here, it's by default value -1 is not valid in dictionary \u001B[39;00m\n\u001B[0;32m      2\u001B[0m \u001B[38;5;28mprint\u001B[39m(info)\n",
      "\u001B[1;31mTypeError\u001B[0m: pop expected at least 1 argument, got 0"
     ]
    }
   ],
   "source": [
    "info.pop() # it needs to pass at least one argument because here, it's by default value -1 is not valid in dictionary \n",
    "print(info)"
   ],
   "metadata": {
    "collapsed": false,
    "ExecuteTime": {
     "end_time": "2024-02-01T09:36:11.257549100Z",
     "start_time": "2024-02-01T09:36:11.246399500Z"
    }
   },
   "id": "aecdfbfa9ed0f763",
   "execution_count": 33
  },
  {
   "cell_type": "code",
   "outputs": [
    {
     "name": "stdout",
     "output_type": "stream",
     "text": [
      "{'name': 'Rohan', 'age': 21}\n"
     ]
    }
   ],
   "source": [
    "info.popitem()  # last item get popped in the dictionary\n",
    "print(info)"
   ],
   "metadata": {
    "collapsed": false,
    "ExecuteTime": {
     "end_time": "2024-02-01T09:36:11.430871200Z",
     "start_time": "2024-02-01T09:36:11.426354Z"
    }
   },
   "id": "e051111fae72e87c",
   "execution_count": 34
  },
  {
   "cell_type": "code",
   "outputs": [
    {
     "name": "stdout",
     "output_type": "stream",
     "text": [
      "9\n",
      "[1, 2, 3, 4, 5, 6, 7, 8]\n"
     ]
    }
   ],
   "source": [
    "lst = [1,2,3,4,5,6,7,8,9]\n",
    "item = lst.pop() # Here it will work without specifying any argument.\n",
    "print(item)\n",
    "print(lst)"
   ],
   "metadata": {
    "collapsed": false,
    "ExecuteTime": {
     "end_time": "2024-02-01T09:36:11.609901600Z",
     "start_time": "2024-02-01T09:36:11.603872700Z"
    }
   },
   "id": "df52d5d939f7fdc7",
   "execution_count": 35
  },
  {
   "cell_type": "markdown",
   "source": [
    "### del:\n",
    "> we can also use the del keyword to remove a dictionary item.\n",
    "\n",
    "Example:"
   ],
   "metadata": {
    "collapsed": false
   },
   "id": "54bebb19edf16b73"
  },
  {
   "cell_type": "code",
   "outputs": [
    {
     "name": "stdout",
     "output_type": "stream",
     "text": [
      "{'name': 'Karan', 'eligible': True, 'DOB': 2003}\n"
     ]
    }
   ],
   "source": [
    "info = {'name':'Karan', 'age':19, 'eligible':True, 'DOB':2003}\n",
    "del info['age']\n",
    "print(info)"
   ],
   "metadata": {
    "collapsed": false,
    "ExecuteTime": {
     "end_time": "2024-02-01T09:36:11.955157300Z",
     "start_time": "2024-02-01T09:36:11.952638900Z"
    }
   },
   "id": "f0a9ae0decec9163",
   "execution_count": 36
  },
  {
   "cell_type": "code",
   "outputs": [
    {
     "ename": "NameError",
     "evalue": "name 'info' is not defined",
     "output_type": "error",
     "traceback": [
      "\u001B[1;31m---------------------------------------------------------------------------\u001B[0m",
      "\u001B[1;31mNameError\u001B[0m                                 Traceback (most recent call last)",
      "Cell \u001B[1;32mIn[37], line 2\u001B[0m\n\u001B[0;32m      1\u001B[0m \u001B[38;5;28;01mdel\u001B[39;00m info\n\u001B[1;32m----> 2\u001B[0m \u001B[38;5;28mprint\u001B[39m(\u001B[43minfo\u001B[49m)\n",
      "\u001B[1;31mNameError\u001B[0m: name 'info' is not defined"
     ]
    }
   ],
   "source": [
    "del info\n",
    "print(info)"
   ],
   "metadata": {
    "collapsed": false,
    "ExecuteTime": {
     "end_time": "2024-02-01T09:36:13.695705900Z",
     "start_time": "2024-02-01T09:36:13.684049Z"
    }
   },
   "id": "d88da28afea3fff8",
   "execution_count": 37
  }
 ],
 "metadata": {
  "kernelspec": {
   "display_name": "Python 3",
   "language": "python",
   "name": "python3"
  },
  "language_info": {
   "codemirror_mode": {
    "name": "ipython",
    "version": 2
   },
   "file_extension": ".py",
   "mimetype": "text/x-python",
   "name": "python",
   "nbconvert_exporter": "python",
   "pygments_lexer": "ipython2",
   "version": "2.7.6"
  }
 },
 "nbformat": 4,
 "nbformat_minor": 5
}
