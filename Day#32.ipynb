{
 "cells": [
  {
   "cell_type": "markdown",
   "source": [
    "# Joining Sets\n",
    "- Sets in python more or less work in the same way as sets in mathematics. We can perform operations like union and intersection on the sets just like in mathematics."
   ],
   "metadata": {
    "collapsed": false
   },
   "id": "9e1d25372e408f07"
  },
  {
   "cell_type": "markdown",
   "source": [
    "### I. union() and update():\n",
    "> The union() and update() methods prints all items that are present in the two sets. The union() method returns a new set whereas update() method adds item into the existing set from another set.\n",
    "![](https://www.probabilitycourse.com/images/chapter1/union_b.png)\n",
    "Example:"
   ],
   "metadata": {
    "collapsed": false
   },
   "id": "55147ff4519b189f"
  },
  {
   "cell_type": "code",
   "execution_count": 1,
   "id": "initial_id",
   "metadata": {
    "collapsed": true,
    "ExecuteTime": {
     "end_time": "2024-01-31T14:11:44.028675100Z",
     "start_time": "2024-01-31T14:11:44.017431Z"
    }
   },
   "outputs": [
    {
     "name": "stdout",
     "output_type": "stream",
     "text": [
      "{'Berlin', 'Delhi', 'Tokyo', 'Madrid', 'Kabul', 'Seoul'}\n"
     ]
    }
   ],
   "source": [
    "cities = {\"Tokyo\", \"Madrid\", \"Berlin\", \"Delhi\"}\n",
    "cities2 = {\"Tokyo\", \"Seoul\", \"Kabul\", \"Madrid\"}\n",
    "cities3 = cities.union(cities2)\n",
    "print(cities3)"
   ]
  },
  {
   "cell_type": "code",
   "execution_count": 2,
   "outputs": [
    {
     "data": {
      "text/plain": "{'Berlin', 'Delhi', 'Kabul', 'Madrid', 'Seoul', 'Tokyo'}"
     },
     "execution_count": 2,
     "metadata": {},
     "output_type": "execute_result"
    }
   ],
   "source": [
    "cities = {\"Tokyo\", \"Madrid\", \"Berlin\", \"Delhi\"}\n",
    "cities2 = {\"Tokyo\", \"Seoul\", \"Kabul\", \"Madrid\"}\n",
    "cities.update(cities2)\n",
    "cities"
   ],
   "metadata": {
    "collapsed": false,
    "ExecuteTime": {
     "end_time": "2024-01-31T14:11:44.049408400Z",
     "start_time": "2024-01-31T14:11:44.022635900Z"
    }
   },
   "id": "7887bc2d7ba24e55"
  },
  {
   "cell_type": "markdown",
   "source": [
    "### II. intersection and intersection_update():\n",
    "> The intersection() and intersection_update() methods prints only items that are similar to both the sets. The intersection() method returns a new set whereas intersection_update() method updates into the existing set from another set.\n",
    "![](https://www.probabilitycourse.com/images/chapter1/intersection_b.png)\n",
    "Example:"
   ],
   "metadata": {
    "collapsed": false
   },
   "id": "cdcfc6154155275"
  },
  {
   "cell_type": "code",
   "outputs": [
    {
     "data": {
      "text/plain": "{'Madrid', 'Tokyo'}"
     },
     "execution_count": 3,
     "metadata": {},
     "output_type": "execute_result"
    }
   ],
   "source": [
    "cities = {\"Tokyo\", \"Madrid\", \"Berlin\", \"Delhi\"}\n",
    "cities2 = {\"Tokyo\", \"Seoul\", \"Kabul\", \"Madrid\"}\n",
    "cities3 = cities.intersection(cities2)\n",
    "cities3"
   ],
   "metadata": {
    "collapsed": false,
    "ExecuteTime": {
     "end_time": "2024-01-31T14:11:44.051468200Z",
     "start_time": "2024-01-31T14:11:44.029733300Z"
    }
   },
   "id": "9dc6fb542d8f658d",
   "execution_count": 3
  },
  {
   "cell_type": "code",
   "outputs": [
    {
     "data": {
      "text/plain": "{'Madrid', 'Tokyo'}"
     },
     "execution_count": 4,
     "metadata": {},
     "output_type": "execute_result"
    }
   ],
   "source": [
    "cities = {\"Tokyo\", \"Madrid\", \"Berlin\", \"Delhi\"}\n",
    "cities2 = {\"Tokyo\", \"Seoul\", \"Kabul\", \"Madrid\"}\n",
    "cities.intersection_update(cities2)\n",
    "cities"
   ],
   "metadata": {
    "collapsed": false,
    "ExecuteTime": {
     "end_time": "2024-01-31T14:11:44.053557400Z",
     "start_time": "2024-01-31T14:11:44.034734400Z"
    }
   },
   "id": "1f6b22a7f28d5f7f",
   "execution_count": 4
  },
  {
   "cell_type": "markdown",
   "source": [
    "### III. symmetric_difference and symmetric_difference_update():\n",
    "> The symmetric_difference() and symmetric_difference_update() methods prints only items that are not similar to both the sets. The symmetric_difference() method returns a new set whereas symmetric_difference_update() method updates into the existing set from another set.\n",
    "![](https://i.stack.imgur.com/SRjCR.png)\n",
    "Example:"
   ],
   "metadata": {
    "collapsed": false
   },
   "id": "cc746b17d9041d7b"
  },
  {
   "cell_type": "code",
   "outputs": [
    {
     "data": {
      "text/plain": "{'Berlin', 'Delhi', 'Kabul', 'Seoul'}"
     },
     "execution_count": 5,
     "metadata": {},
     "output_type": "execute_result"
    }
   ],
   "source": [
    "cities = {\"Tokyo\", \"Madrid\", \"Berlin\", \"Delhi\"}\n",
    "cities2 = {\"Tokyo\", \"Seoul\", \"Kabul\", \"Madrid\"}\n",
    "cities3 = cities.symmetric_difference(cities2)\n",
    "cities3"
   ],
   "metadata": {
    "collapsed": false,
    "ExecuteTime": {
     "end_time": "2024-01-31T14:11:44.118839100Z",
     "start_time": "2024-01-31T14:11:44.043681400Z"
    }
   },
   "id": "dd175ef6e5bbc1de",
   "execution_count": 5
  },
  {
   "cell_type": "code",
   "outputs": [
    {
     "data": {
      "text/plain": "{'Berlin', 'Delhi', 'Kabul', 'Seoul'}"
     },
     "execution_count": 6,
     "metadata": {},
     "output_type": "execute_result"
    }
   ],
   "source": [
    "cities = {\"Tokyo\", \"Madrid\", \"Berlin\", \"Delhi\"}\n",
    "cities2 = {\"Tokyo\", \"Seoul\", \"Kabul\", \"Madrid\"}\n",
    "cities.symmetric_difference_update(cities2)\n",
    "cities"
   ],
   "metadata": {
    "collapsed": false,
    "ExecuteTime": {
     "end_time": "2024-01-31T14:11:44.168361900Z",
     "start_time": "2024-01-31T14:11:44.121592400Z"
    }
   },
   "id": "8def0bdfd39632a0",
   "execution_count": 6
  },
  {
   "cell_type": "markdown",
   "source": [
    "### IV. difference() and difference_update():\n",
    "> The difference() and difference_update() methods prints only items that are only present in the original set and not in both the sets. The difference() method returns a new set whereas difference_update() method updates into the existing set from another set.\n",
    "![](https://media.geeksforgeeks.org/wp-content/cdn-uploads/set-difference.jpg)\n",
    "Example:"
   ],
   "metadata": {
    "collapsed": false
   },
   "id": "ecb06c2c5e382f8c"
  },
  {
   "cell_type": "code",
   "outputs": [
    {
     "data": {
      "text/plain": "{'Berlin', 'Delhi', 'Tokyo'}"
     },
     "execution_count": 7,
     "metadata": {},
     "output_type": "execute_result"
    }
   ],
   "source": [
    "cities = {\"Tokyo\", \"Madrid\", \"Berlin\", \"Delhi\"}\n",
    "cities2 = {\"Seoul\", \"Kabul\", \"Madrid\"}\n",
    "cities3 = cities.difference(cities2)\n",
    "cities3"
   ],
   "metadata": {
    "collapsed": false,
    "ExecuteTime": {
     "end_time": "2024-01-31T14:11:44.224408800Z",
     "start_time": "2024-01-31T14:11:44.158110300Z"
    }
   },
   "id": "89db5b6c01c278d",
   "execution_count": 7
  },
  {
   "cell_type": "code",
   "outputs": [
    {
     "data": {
      "text/plain": "{'Berlin', 'Delhi', 'Tokyo'}"
     },
     "execution_count": 8,
     "metadata": {},
     "output_type": "execute_result"
    }
   ],
   "source": [
    "cities.difference_update(cities2)\n",
    "cities"
   ],
   "metadata": {
    "collapsed": false,
    "ExecuteTime": {
     "end_time": "2024-01-31T14:11:44.245575300Z",
     "start_time": "2024-01-31T14:11:44.208727200Z"
    }
   },
   "id": "b48a70f995f6dd1c",
   "execution_count": 8
  },
  {
   "cell_type": "markdown",
   "source": [
    "# Set Methods\n",
    "- There are several in-built methods used for the manipulation of set.They are explained below\n",
    "\n"
   ],
   "metadata": {
    "collapsed": false
   },
   "id": "27ff1d045c8f2b31"
  },
  {
   "cell_type": "markdown",
   "source": [
    "### isdisjoint():\n",
    "> The isdisjoint() method checks if items of given set are present in another set. This method returns False if items are present, else it returns True.\n",
    "![](https://www.pythontutorial.net/wp-content/uploads/2020/10/Python-disjoint-sets.png)\n",
    "Example:"
   ],
   "metadata": {
    "collapsed": false
   },
   "id": "54ea978cf93f7443"
  },
  {
   "cell_type": "code",
   "outputs": [
    {
     "name": "stdout",
     "output_type": "stream",
     "text": [
      "False\n"
     ]
    }
   ],
   "source": [
    "cities = {\"Tokyo\", \"Madrid\", \"Berlin\", \"Delhi\"}\n",
    "cities2 = {\"Tokyo\", \"Seoul\", \"Kabul\", \"Madrid\"}\n",
    "print(cities.isdisjoint(cities2))"
   ],
   "metadata": {
    "collapsed": false,
    "ExecuteTime": {
     "end_time": "2024-01-31T14:11:44.308253900Z",
     "start_time": "2024-01-31T14:11:44.247666300Z"
    }
   },
   "id": "90476847293da7e2",
   "execution_count": 9
  },
  {
   "cell_type": "code",
   "outputs": [
    {
     "name": "stdout",
     "output_type": "stream",
     "text": [
      "True\n"
     ]
    }
   ],
   "source": [
    "cities = {\"Dubai\", \"Uganda\", \"Berlin\", \"Delhi\"}\n",
    "cities2 = {\"Tokyo\", \"Seoul\", \"Kabul\", \"Madrid\"}\n",
    "print(cities.isdisjoint(cities2))"
   ],
   "metadata": {
    "collapsed": false,
    "ExecuteTime": {
     "end_time": "2024-01-31T14:11:44.350851300Z",
     "start_time": "2024-01-31T14:11:44.298832400Z"
    }
   },
   "id": "84102fd368523bad",
   "execution_count": 10
  },
  {
   "cell_type": "markdown",
   "source": [
    "### issuperset():\n",
    "> The issuperset() method checks if all the items of a particular set are present in the original set. It returns True if all the items are present, else it returns False.\n",
    "![](https://media.geeksforgeeks.org/wp-content/cdn-uploads/superset.png)\n",
    "Example:"
   ],
   "metadata": {
    "collapsed": false
   },
   "id": "810203d6b8dddd5a"
  },
  {
   "cell_type": "code",
   "outputs": [
    {
     "name": "stdout",
     "output_type": "stream",
     "text": [
      "False\n",
      "True\n"
     ]
    }
   ],
   "source": [
    "cities = {\"Tokyo\", \"Madrid\", \"Berlin\", \"Delhi\"}\n",
    "cities2 = {\"Seoul\", \"Kabul\"}\n",
    "print(cities.issuperset(cities2))\n",
    "cities3 = {\"Berlin\", \"Madrid\",\"Delhi\"}\n",
    "print(cities.issuperset(cities3))"
   ],
   "metadata": {
    "collapsed": false,
    "ExecuteTime": {
     "end_time": "2024-01-31T14:11:44.390225Z",
     "start_time": "2024-01-31T14:11:44.354461200Z"
    }
   },
   "id": "810cd11ffbbcdf61",
   "execution_count": 11
  },
  {
   "cell_type": "markdown",
   "source": [
    "### issubset():\n",
    "> The issubset() method checks if all the items of the original set are present in the particular set. It returns True if all the items are present, else it returns False.\n",
    "\n",
    "Example:"
   ],
   "metadata": {
    "collapsed": false
   },
   "id": "369792d739c5210a"
  },
  {
   "cell_type": "code",
   "outputs": [
    {
     "name": "stdout",
     "output_type": "stream",
     "text": [
      "True\n"
     ]
    }
   ],
   "source": [
    "cities = {\"Tokyo\", \"Madrid\", \"Berlin\", \"Delhi\"}\n",
    "cities2 = {\"Delhi\", \"Madrid\"}\n",
    "print(cities2.issubset(cities))"
   ],
   "metadata": {
    "collapsed": false,
    "ExecuteTime": {
     "end_time": "2024-01-31T14:11:44.439238600Z",
     "start_time": "2024-01-31T14:11:44.392610400Z"
    }
   },
   "id": "e7b0f4f9354cf702",
   "execution_count": 12
  },
  {
   "cell_type": "markdown",
   "source": [
    "### add()\n",
    "> If you want to add a single item to the set use the add() method."
   ],
   "metadata": {
    "collapsed": false
   },
   "id": "21ab0f49239bd72e"
  },
  {
   "cell_type": "code",
   "outputs": [
    {
     "data": {
      "text/plain": "{'Berlin', 'Delhi', 'Helsinki', 'Madrid', 'Tokyo'}"
     },
     "execution_count": 13,
     "metadata": {},
     "output_type": "execute_result"
    }
   ],
   "source": [
    "cities = {\"Tokyo\", \"Madrid\", \"Berlin\", \"Delhi\"}\n",
    "cities.add(\"Helsinki\")\n",
    "cities"
   ],
   "metadata": {
    "collapsed": false,
    "ExecuteTime": {
     "end_time": "2024-01-31T14:11:44.496738800Z",
     "start_time": "2024-01-31T14:11:44.442013700Z"
    }
   },
   "id": "b06efb9aed3a5085",
   "execution_count": 13
  },
  {
   "cell_type": "markdown",
   "source": [
    "### update()\n",
    "> If you want to add more than one item, simply create another set or any other iterable object(list, tuple, dictionary), and use the update() method to add it into the existing set.\n",
    "\n",
    "Example:"
   ],
   "metadata": {
    "collapsed": false
   },
   "id": "99e3909733cdd07a"
  },
  {
   "cell_type": "code",
   "outputs": [
    {
     "name": "stdout",
     "output_type": "stream",
     "text": [
      "{'Tokyo', 'Berlin', 'Madrid', 'Warshaw', 'Helsinki', 'Seoul', 'Delhi'}\n"
     ]
    }
   ],
   "source": [
    "cities = {\"Tokyo\", \"Madrid\", \"Berlin\", \"Delhi\"}\n",
    "cities2 = {\"Helsinki\", \"Warshaw\", \"Seoul\"}\n",
    "cities.update(cities2)\n",
    "print(cities)"
   ],
   "metadata": {
    "collapsed": false,
    "ExecuteTime": {
     "end_time": "2024-01-31T14:11:44.500899600Z",
     "start_time": "2024-01-31T14:11:44.489386700Z"
    }
   },
   "id": "11ffb5a684d078a8",
   "execution_count": 14
  },
  {
   "cell_type": "markdown",
   "source": [
    "### remove()/discard()\n",
    "> We can use remove() and discard() methods to remove items form list.\n",
    "\n",
    "Example :"
   ],
   "metadata": {
    "collapsed": false
   },
   "id": "528f30453b1e4fb8"
  },
  {
   "cell_type": "code",
   "outputs": [
    {
     "name": "stdout",
     "output_type": "stream",
     "text": [
      "{'Tokyo', 'Berlin', 'Madrid'}\n"
     ]
    }
   ],
   "source": [
    "cities = {\"Tokyo\", \"Madrid\", \"Berlin\", \"Delhi\"}\n",
    "cities.remove(\"Delhi\")\n",
    "print(cities)"
   ],
   "metadata": {
    "collapsed": false,
    "ExecuteTime": {
     "end_time": "2024-01-31T14:11:44.557137800Z",
     "start_time": "2024-01-31T14:11:44.504561300Z"
    }
   },
   "id": "8ee447dd9b78941e",
   "execution_count": 15
  },
  {
   "cell_type": "markdown",
   "source": [
    "- The main difference between remove and discard is that, if we try to delete an item which is not present in set, then remove() raises an error, whereas discard() does not raise any error."
   ],
   "metadata": {
    "collapsed": false
   },
   "id": "b47068e27e81211b"
  },
  {
   "cell_type": "code",
   "outputs": [
    {
     "ename": "KeyError",
     "evalue": "'Warshaw'",
     "output_type": "error",
     "traceback": [
      "\u001B[1;31m---------------------------------------------------------------------------\u001B[0m",
      "\u001B[1;31mKeyError\u001B[0m                                  Traceback (most recent call last)",
      "Cell \u001B[1;32mIn[16], line 1\u001B[0m\n\u001B[1;32m----> 1\u001B[0m \u001B[43mcities\u001B[49m\u001B[38;5;241;43m.\u001B[39;49m\u001B[43mremove\u001B[49m\u001B[43m(\u001B[49m\u001B[38;5;124;43m\"\u001B[39;49m\u001B[38;5;124;43mWarshaw\u001B[39;49m\u001B[38;5;124;43m\"\u001B[39;49m\u001B[43m)\u001B[49m\n",
      "\u001B[1;31mKeyError\u001B[0m: 'Warshaw'"
     ]
    }
   ],
   "source": [
    "cities.remove(\"Warshaw\")"
   ],
   "metadata": {
    "collapsed": false,
    "ExecuteTime": {
     "end_time": "2024-01-31T14:11:44.728859300Z",
     "start_time": "2024-01-31T14:11:44.516292Z"
    }
   },
   "id": "2e8f00771bd1ed82",
   "execution_count": 16
  },
  {
   "cell_type": "code",
   "outputs": [],
   "source": [
    "cities.discard(\"Warshaw\")"
   ],
   "metadata": {
    "collapsed": false,
    "ExecuteTime": {
     "end_time": "2024-01-31T14:12:06.583307600Z",
     "start_time": "2024-01-31T14:12:06.544867800Z"
    }
   },
   "id": "c5a47eca8ee808b6",
   "execution_count": 17
  },
  {
   "cell_type": "markdown",
   "source": [
    "### pop()\n",
    "> This method removes the last item of the set but the catch is that we don’t know which item gets popped as sets are unordered. However, you can access the popped item if you assign the pop() method to a variable.\n",
    "\n",
    "Example:"
   ],
   "metadata": {
    "collapsed": false
   },
   "id": "9a52099ce48e7519"
  },
  {
   "cell_type": "code",
   "outputs": [
    {
     "ename": "TypeError",
     "evalue": "set.pop() takes no arguments (1 given)",
     "output_type": "error",
     "traceback": [
      "\u001B[1;31m---------------------------------------------------------------------------\u001B[0m",
      "\u001B[1;31mTypeError\u001B[0m                                 Traceback (most recent call last)",
      "Cell \u001B[1;32mIn[18], line 2\u001B[0m\n\u001B[0;32m      1\u001B[0m cities \u001B[38;5;241m=\u001B[39m {\u001B[38;5;124m\"\u001B[39m\u001B[38;5;124mTokyo\u001B[39m\u001B[38;5;124m\"\u001B[39m, \u001B[38;5;124m\"\u001B[39m\u001B[38;5;124mMadrid\u001B[39m\u001B[38;5;124m\"\u001B[39m, \u001B[38;5;124m\"\u001B[39m\u001B[38;5;124mBerlin\u001B[39m\u001B[38;5;124m\"\u001B[39m, \u001B[38;5;124m\"\u001B[39m\u001B[38;5;124mDelhi\u001B[39m\u001B[38;5;124m\"\u001B[39m}\n\u001B[1;32m----> 2\u001B[0m item \u001B[38;5;241m=\u001B[39m \u001B[43mcities\u001B[49m\u001B[38;5;241;43m.\u001B[39;49m\u001B[43mpop\u001B[49m\u001B[43m(\u001B[49m\u001B[38;5;241;43m1\u001B[39;49m\u001B[43m)\u001B[49m\n\u001B[0;32m      3\u001B[0m \u001B[38;5;28mprint\u001B[39m(cities)\n\u001B[0;32m      4\u001B[0m \u001B[38;5;28mprint\u001B[39m(item)\n",
      "\u001B[1;31mTypeError\u001B[0m: set.pop() takes no arguments (1 given)"
     ]
    }
   ],
   "source": [
    "cities = {\"Tokyo\", \"Madrid\", \"Berlin\", \"Delhi\"}\n",
    "item = cities.pop(1)\n",
    "print(cities)\n",
    "print(item)"
   ],
   "metadata": {
    "collapsed": false,
    "ExecuteTime": {
     "end_time": "2024-01-31T14:12:08.037561700Z",
     "start_time": "2024-01-31T14:12:08.012494700Z"
    }
   },
   "id": "af6c5d6016d58052",
   "execution_count": 18
  },
  {
   "cell_type": "code",
   "outputs": [
    {
     "name": "stdout",
     "output_type": "stream",
     "text": [
      "{'Berlin', 'Madrid', 'Delhi'}\n"
     ]
    }
   ],
   "source": [
    "item = cities.pop()\n",
    "print(cities)"
   ],
   "metadata": {
    "collapsed": false,
    "ExecuteTime": {
     "end_time": "2024-01-31T14:12:08.395747100Z",
     "start_time": "2024-01-31T14:12:08.388903300Z"
    }
   },
   "id": "a368684d4d360a80",
   "execution_count": 19
  },
  {
   "cell_type": "code",
   "outputs": [
    {
     "data": {
      "text/plain": "'Tokyo'"
     },
     "execution_count": 20,
     "metadata": {},
     "output_type": "execute_result"
    }
   ],
   "source": [
    "item"
   ],
   "metadata": {
    "collapsed": false,
    "ExecuteTime": {
     "end_time": "2024-01-31T14:12:08.640800Z",
     "start_time": "2024-01-31T14:12:08.631922100Z"
    }
   },
   "id": "e303c7b8a9a24f86",
   "execution_count": 20
  },
  {
   "cell_type": "markdown",
   "source": [
    "### del\n",
    "> del is not a method, rather it is a keyword which deletes the set entirely.\n",
    "\n",
    "Example:"
   ],
   "metadata": {
    "collapsed": false
   },
   "id": "75d3b9abd2cc119d"
  },
  {
   "cell_type": "code",
   "outputs": [
    {
     "ename": "NameError",
     "evalue": "name 'cities' is not defined",
     "output_type": "error",
     "traceback": [
      "\u001B[1;31m---------------------------------------------------------------------------\u001B[0m",
      "\u001B[1;31mNameError\u001B[0m                                 Traceback (most recent call last)",
      "Cell \u001B[1;32mIn[21], line 3\u001B[0m\n\u001B[0;32m      1\u001B[0m cities \u001B[38;5;241m=\u001B[39m {\u001B[38;5;124m\"\u001B[39m\u001B[38;5;124mTokyo\u001B[39m\u001B[38;5;124m\"\u001B[39m, \u001B[38;5;124m\"\u001B[39m\u001B[38;5;124mMadrid\u001B[39m\u001B[38;5;124m\"\u001B[39m, \u001B[38;5;124m\"\u001B[39m\u001B[38;5;124mBerlin\u001B[39m\u001B[38;5;124m\"\u001B[39m, \u001B[38;5;124m\"\u001B[39m\u001B[38;5;124mDelhi\u001B[39m\u001B[38;5;124m\"\u001B[39m}\n\u001B[0;32m      2\u001B[0m \u001B[38;5;28;01mdel\u001B[39;00m cities\n\u001B[1;32m----> 3\u001B[0m \u001B[38;5;28mprint\u001B[39m(\u001B[43mcities\u001B[49m)\n",
      "\u001B[1;31mNameError\u001B[0m: name 'cities' is not defined"
     ]
    }
   ],
   "source": [
    "cities = {\"Tokyo\", \"Madrid\", \"Berlin\", \"Delhi\"}\n",
    "del cities\n",
    "print(cities)"
   ],
   "metadata": {
    "collapsed": false,
    "ExecuteTime": {
     "end_time": "2024-01-31T14:12:09.083986900Z",
     "start_time": "2024-01-31T14:12:09.072797200Z"
    }
   },
   "id": "50dff3d307aedbc8",
   "execution_count": 21
  },
  {
   "cell_type": "markdown",
   "source": [
    "- NameError: name 'cities' is not defined We get an error because our entire set has been deleted and there is no variable called cities which contains a set.\n",
    "\n",
    "> What if we don’t want to delete the entire set, we just want to delete all items within that set?"
   ],
   "metadata": {
    "collapsed": false
   },
   "id": "fcac73b628a7359b"
  },
  {
   "cell_type": "markdown",
   "source": [
    "### clear():\n",
    ">This method clears all items in the set and prints an empty set.\n",
    "\n",
    "Example:"
   ],
   "metadata": {
    "collapsed": false
   },
   "id": "a770b81ff98829ef"
  },
  {
   "cell_type": "code",
   "outputs": [
    {
     "name": "stdout",
     "output_type": "stream",
     "text": [
      "set()\n"
     ]
    }
   ],
   "source": [
    "cities = {\"Tokyo\", \"Madrid\", \"Berlin\", \"Delhi\"}\n",
    "cities.clear()\n",
    "print(cities)"
   ],
   "metadata": {
    "collapsed": false,
    "ExecuteTime": {
     "end_time": "2024-01-31T14:12:09.896482600Z",
     "start_time": "2024-01-31T14:12:09.888329100Z"
    }
   },
   "id": "efb818a317778f2f",
   "execution_count": 22
  },
  {
   "cell_type": "markdown",
   "source": [
    "### Check if item exists\n",
    "> You can also check if an item exists in the set or not.\n",
    "\n",
    "Example"
   ],
   "metadata": {
    "collapsed": false
   },
   "id": "118138ebec760895"
  },
  {
   "cell_type": "code",
   "outputs": [
    {
     "name": "stdout",
     "output_type": "stream",
     "text": [
      "19 is in the info\n"
     ]
    }
   ],
   "source": [
    "info = {\"Clara\", 19, False, 5.9}\n",
    "if 19 in info:\n",
    "    print(19, \"is in the info\")\n",
    "else:\n",
    "    print(19, \" is not in the info\")"
   ],
   "metadata": {
    "collapsed": false,
    "ExecuteTime": {
     "end_time": "2024-01-31T14:12:10.445273900Z",
     "start_time": "2024-01-31T14:12:10.443173200Z"
    }
   },
   "id": "f51579a236ca896b",
   "execution_count": 23
  }
 ],
 "metadata": {
  "kernelspec": {
   "display_name": "Python 3",
   "language": "python",
   "name": "python3"
  },
  "language_info": {
   "codemirror_mode": {
    "name": "ipython",
    "version": 2
   },
   "file_extension": ".py",
   "mimetype": "text/x-python",
   "name": "python",
   "nbconvert_exporter": "python",
   "pygments_lexer": "ipython2",
   "version": "2.7.6"
  }
 },
 "nbformat": 4,
 "nbformat_minor": 5
}
