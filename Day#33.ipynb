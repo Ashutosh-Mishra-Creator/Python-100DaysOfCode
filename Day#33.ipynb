{
 "cells": [
  {
   "cell_type": "markdown",
   "source": [
    "# Python Dictionaries\n",
    "> Dictionaries are ordered collection of data items. They store multiple items in a single variable. Dictionary items are key-value pairs that are separated by commas and enclosed within curly brackets {}.\n",
    "\n",
    "> Python 3.7 onwards dictionary has become ordered.\n",
    "\n",
    "Example:"
   ],
   "metadata": {
    "collapsed": false
   },
   "id": "63d3c30217bec144"
  },
  {
   "cell_type": "code",
   "execution_count": 1,
   "id": "initial_id",
   "metadata": {
    "collapsed": true,
    "ExecuteTime": {
     "end_time": "2024-01-31T14:15:01.729539900Z",
     "start_time": "2024-01-31T14:15:01.723209900Z"
    }
   },
   "outputs": [
    {
     "data": {
      "text/plain": "'Human Being'"
     },
     "execution_count": 1,
     "metadata": {},
     "output_type": "execute_result"
    }
   ],
   "source": [
    "dic = {\n",
    "    \"Harry\": \"Human Being\",\n",
    "    \"Spoon\": \"Object\"\n",
    "}\n",
    "dic[\"Harry\"]"
   ]
  },
  {
   "cell_type": "code",
   "outputs": [
    {
     "data": {
      "text/plain": "{'Name': 'Karan', 'age': 19, 'eligible': True}"
     },
     "execution_count": 2,
     "metadata": {},
     "output_type": "execute_result"
    }
   ],
   "source": [
    "info = {\"Name\": \"Karan\", \"age\": 19, \"eligible\": True}\n",
    "info"
   ],
   "metadata": {
    "collapsed": false,
    "ExecuteTime": {
     "end_time": "2024-01-31T14:15:01.775318100Z",
     "start_time": "2024-01-31T14:15:01.730582400Z"
    }
   },
   "id": "624345fa2e5286bb",
   "execution_count": 2
  },
  {
   "cell_type": "markdown",
   "source": [
    "Accessing Dictionary items:\n",
    "I. Accessing single values:\n",
    "Values in a dictionary can be accessed using keys. We can access dictionary values by mentioning keys either in square brackets or by using get method.\n",
    "\n",
    "Example:"
   ],
   "metadata": {
    "collapsed": false
   },
   "id": "a698eaa84377d1d5"
  },
  {
   "cell_type": "code",
   "outputs": [
    {
     "name": "stdout",
     "output_type": "stream",
     "text": [
      "Karan\n"
     ]
    },
    {
     "ename": "KeyError",
     "evalue": "'college'",
     "output_type": "error",
     "traceback": [
      "\u001B[1;31m---------------------------------------------------------------------------\u001B[0m",
      "\u001B[1;31mKeyError\u001B[0m                                  Traceback (most recent call last)",
      "Cell \u001B[1;32mIn[3], line 2\u001B[0m\n\u001B[0;32m      1\u001B[0m \u001B[38;5;28mprint\u001B[39m(info[\u001B[38;5;124m\"\u001B[39m\u001B[38;5;124mName\u001B[39m\u001B[38;5;124m\"\u001B[39m])\n\u001B[1;32m----> 2\u001B[0m \u001B[38;5;28mprint\u001B[39m(\u001B[43minfo\u001B[49m\u001B[43m[\u001B[49m\u001B[38;5;124;43m\"\u001B[39;49m\u001B[38;5;124;43mcollege\u001B[39;49m\u001B[38;5;124;43m\"\u001B[39;49m\u001B[43m]\u001B[49m)\n",
      "\u001B[1;31mKeyError\u001B[0m: 'college'"
     ]
    }
   ],
   "source": [
    "print(info[\"Name\"])\n",
    "print(info[\"college\"])"
   ],
   "metadata": {
    "collapsed": false,
    "ExecuteTime": {
     "end_time": "2024-01-31T14:15:01.945966900Z",
     "start_time": "2024-01-31T14:15:01.734434400Z"
    }
   },
   "id": "471db878c8ec7cc2",
   "execution_count": 3
  },
  {
   "cell_type": "code",
   "outputs": [
    {
     "name": "stdout",
     "output_type": "stream",
     "text": [
      "None\n"
     ]
    }
   ],
   "source": [
    "print(info.get(\"college\")) # Don't throw any error"
   ],
   "metadata": {
    "collapsed": false,
    "ExecuteTime": {
     "end_time": "2024-01-31T14:15:07.412052400Z",
     "start_time": "2024-01-31T14:15:07.407510500Z"
    }
   },
   "id": "8c8c94a2b6630c28",
   "execution_count": 4
  },
  {
   "cell_type": "code",
   "outputs": [
    {
     "data": {
      "text/plain": "'Karan'"
     },
     "execution_count": 5,
     "metadata": {},
     "output_type": "execute_result"
    }
   ],
   "source": [
    "info[\"Name\"]"
   ],
   "metadata": {
    "collapsed": false,
    "ExecuteTime": {
     "end_time": "2024-01-31T14:15:07.833045Z",
     "start_time": "2024-01-31T14:15:07.824163200Z"
    }
   },
   "id": "cf172ba51f68904f",
   "execution_count": 5
  },
  {
   "cell_type": "markdown",
   "source": [
    "II. Accessing multiple values:\n",
    "We can print all the values in the dictionary using values() method.\n",
    "\n",
    "Example:"
   ],
   "metadata": {
    "collapsed": false
   },
   "id": "19d8400181c5a8a5"
  },
  {
   "cell_type": "code",
   "outputs": [
    {
     "name": "stdout",
     "output_type": "stream",
     "text": [
      "dict_values(['karan', 19, True])\n"
     ]
    }
   ],
   "source": [
    "info = {'name': 'karan', 'age': 19, 'eligible': True}\n",
    "print(info.values())"
   ],
   "metadata": {
    "collapsed": false,
    "ExecuteTime": {
     "end_time": "2024-01-31T14:15:08.527533600Z",
     "start_time": "2024-01-31T14:15:08.522580800Z"
    }
   },
   "id": "4f5ba07f14ae14c4",
   "execution_count": 6
  },
  {
   "cell_type": "markdown",
   "source": [
    "III. Accessing keys:\n",
    "We can print all the keys in the dictionary using keys() method.\n",
    "\n",
    "Example:"
   ],
   "metadata": {
    "collapsed": false
   },
   "id": "6c4dd8c44b02448b"
  },
  {
   "cell_type": "code",
   "outputs": [
    {
     "data": {
      "text/plain": "dict_keys(['name', 'age', 'eligible'])"
     },
     "execution_count": 7,
     "metadata": {},
     "output_type": "execute_result"
    }
   ],
   "source": [
    "info.keys()"
   ],
   "metadata": {
    "collapsed": false,
    "ExecuteTime": {
     "end_time": "2024-01-31T14:15:09.168439Z",
     "start_time": "2024-01-31T14:15:09.162803700Z"
    }
   },
   "id": "254b2e708ef1ad28",
   "execution_count": 7
  },
  {
   "cell_type": "markdown",
   "source": [
    "IV. Accessing key-value pairs:\n",
    "We can print all the key-value pairs in the dictionary using items() method.\n",
    "\n",
    "Example:"
   ],
   "metadata": {
    "collapsed": false
   },
   "id": "2b334cf4abfee480"
  },
  {
   "cell_type": "code",
   "outputs": [
    {
     "data": {
      "text/plain": "dict_items([('name', 'karan'), ('age', 19), ('eligible', True)])"
     },
     "execution_count": 8,
     "metadata": {},
     "output_type": "execute_result"
    }
   ],
   "source": [
    "info.items()"
   ],
   "metadata": {
    "collapsed": false,
    "ExecuteTime": {
     "end_time": "2024-01-31T14:15:09.818495600Z",
     "start_time": "2024-01-31T14:15:09.814445700Z"
    }
   },
   "id": "a7e7bdaad09a8d8b",
   "execution_count": 8
  },
  {
   "cell_type": "code",
   "outputs": [
    {
     "name": "stdout",
     "output_type": "stream",
     "text": [
      "The value corresponding to the key name is karan\n",
      "The value corresponding to the key age is 19\n",
      "The value corresponding to the key eligible is True\n"
     ]
    }
   ],
   "source": [
    "for key in info.keys():\n",
    "    print(f\"The value corresponding to the key {key} is {info[key]}\")"
   ],
   "metadata": {
    "collapsed": false,
    "ExecuteTime": {
     "end_time": "2024-01-31T14:15:10.207514400Z",
     "start_time": "2024-01-31T14:15:10.204345Z"
    }
   },
   "id": "a44aa3d1688dabc5",
   "execution_count": 9
  },
  {
   "cell_type": "code",
   "outputs": [
    {
     "name": "stdout",
     "output_type": "stream",
     "text": [
      "The value corresponding to the key name is karan\n",
      "The value corresponding to the key age is 19\n",
      "The value corresponding to the key eligible is True\n"
     ]
    }
   ],
   "source": [
    "for key, value in info.items():\n",
    "    print(f\"The value corresponding to the key {key} is {value}\")"
   ],
   "metadata": {
    "collapsed": false,
    "ExecuteTime": {
     "end_time": "2024-01-31T14:15:10.704973700Z",
     "start_time": "2024-01-31T14:15:10.699930900Z"
    }
   },
   "id": "e5fb3143da175167",
   "execution_count": 10
  }
 ],
 "metadata": {
  "kernelspec": {
   "display_name": "Python 3",
   "language": "python",
   "name": "python3"
  },
  "language_info": {
   "codemirror_mode": {
    "name": "ipython",
    "version": 2
   },
   "file_extension": ".py",
   "mimetype": "text/x-python",
   "name": "python",
   "nbconvert_exporter": "python",
   "pygments_lexer": "ipython2",
   "version": "2.7.6"
  }
 },
 "nbformat": 4,
 "nbformat_minor": 5
}
