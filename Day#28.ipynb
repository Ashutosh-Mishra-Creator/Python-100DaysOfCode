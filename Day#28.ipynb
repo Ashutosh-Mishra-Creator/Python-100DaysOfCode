{
 "cells": [
  {
   "cell_type": "code",
   "execution_count": 1,
   "id": "initial_id",
   "metadata": {
    "collapsed": true,
    "ExecuteTime": {
     "end_time": "2024-01-31T12:26:12.787727900Z",
     "start_time": "2024-01-31T12:26:12.781233700Z"
    }
   },
   "outputs": [
    {
     "name": "stdout",
     "output_type": "stream",
     "text": [
      "for only 49.00 dollars!\n"
     ]
    }
   ],
   "source": [
    "txt = \"for only {price:.2f} dollars!\"\n",
    "print(txt.format(price=49))"
   ]
  },
  {
   "cell_type": "code",
   "outputs": [
    {
     "name": "stdout",
     "output_type": "stream",
     "text": [
      "Hey my name is Ashutosh and I am from India.\n",
      "Hey my name is India and I am from Ashutosh.\n"
     ]
    }
   ],
   "source": [
    "letter = \"Hey my name is {1} and I am from {0}.\"\n",
    "country = \"India\"\n",
    "name = \"Ashutosh\"\n",
    "print(letter.format(country, name))\n",
    "letter = \"Hey my name is {} and I am from {}.\"\n",
    "print(letter.format(country, name))"
   ],
   "metadata": {
    "collapsed": false,
    "ExecuteTime": {
     "end_time": "2024-01-31T12:37:24.657563Z",
     "start_time": "2024-01-31T12:37:24.652046500Z"
    }
   },
   "id": "3e4e24d10712f89b",
   "execution_count": 10
  },
  {
   "cell_type": "code",
   "outputs": [
    {
     "name": "stdout",
     "output_type": "stream",
     "text": [
      "GeeksofGeeks is a portal for Geeks.\n",
      "Hello, my name is Tushar and I'm 23 year old.\n"
     ]
    }
   ],
   "source": [
    "val = \"Geeks\"\n",
    "print(f\"{val}of{val} is a portal for {val}.\")\n",
    "name = 'Tushar'\n",
    "age = 23\n",
    "print(f\"Hello, my name is {name} and I'm {age} year old.\")"
   ],
   "metadata": {
    "collapsed": false,
    "ExecuteTime": {
     "end_time": "2024-01-31T12:39:48.176614600Z",
     "start_time": "2024-01-31T12:39:48.171728500Z"
    }
   },
   "id": "1c5dbafa68b52f83",
   "execution_count": 11
  },
  {
   "cell_type": "code",
   "outputs": [
    {
     "data": {
      "text/plain": "'3.14156'"
     },
     "execution_count": 3,
     "metadata": {},
     "output_type": "execute_result"
    }
   ],
   "source": [
    "pi = 3.14156\n",
    "str(pi)"
   ],
   "metadata": {
    "collapsed": false,
    "ExecuteTime": {
     "end_time": "2024-01-31T12:26:15.344114700Z",
     "start_time": "2024-01-31T12:26:15.341598500Z"
    }
   },
   "id": "3650b04625c361a",
   "execution_count": 3
  },
  {
   "cell_type": "code",
   "outputs": [
    {
     "name": "stdout",
     "output_type": "stream",
     "text": [
      "The value of pi is 3.14156\n",
      "The value of pi is 3.142\n"
     ]
    }
   ],
   "source": [
    "print(\"The value of pi is \" + str(pi))\n",
    "print(\"The value of pi is {pi:.3f}\".format(pi = 3.14156))"
   ],
   "metadata": {
    "collapsed": false,
    "ExecuteTime": {
     "end_time": "2024-01-31T12:36:00.799146400Z",
     "start_time": "2024-01-31T12:36:00.794630400Z"
    }
   },
   "id": "50f66b54f24c8401",
   "execution_count": 9
  },
  {
   "cell_type": "code",
   "outputs": [
    {
     "data": {
      "text/plain": "3.14156"
     },
     "execution_count": 8,
     "metadata": {},
     "output_type": "execute_result"
    }
   ],
   "source": [
    "pi"
   ],
   "metadata": {
    "collapsed": false,
    "ExecuteTime": {
     "end_time": "2024-01-31T12:35:24.922202200Z",
     "start_time": "2024-01-31T12:35:24.915333800Z"
    }
   },
   "id": "c0aa43c4cac31602",
   "execution_count": 8
  },
  {
   "cell_type": "code",
   "outputs": [
    {
     "name": "stdout",
     "output_type": "stream",
     "text": [
      "60\n",
      "<class 'str'>\n"
     ]
    }
   ],
   "source": [
    "print(f\"{2*30}\")\n",
    "print(type(f\"{2*30}\"))"
   ],
   "metadata": {
    "collapsed": false,
    "ExecuteTime": {
     "end_time": "2024-01-31T12:42:24.333413700Z",
     "start_time": "2024-01-31T12:42:24.329761400Z"
    }
   },
   "id": "6547dd1c782bb48f",
   "execution_count": 17
  },
  {
   "cell_type": "code",
   "outputs": [
    {
     "name": "stdout",
     "output_type": "stream",
     "text": [
      "We use f-string like this: {name}\n"
     ]
    }
   ],
   "source": [
    "print(f\"We use f-string like this: {{name}}\")"
   ],
   "metadata": {
    "collapsed": false,
    "ExecuteTime": {
     "end_time": "2024-01-31T12:44:10.840243Z",
     "start_time": "2024-01-31T12:44:10.834233Z"
    }
   },
   "id": "e093ed9552b2eb10",
   "execution_count": 18
  }
 ],
 "metadata": {
  "kernelspec": {
   "display_name": "Python 3",
   "language": "python",
   "name": "python3"
  },
  "language_info": {
   "codemirror_mode": {
    "name": "ipython",
    "version": 2
   },
   "file_extension": ".py",
   "mimetype": "text/x-python",
   "name": "python",
   "nbconvert_exporter": "python",
   "pygments_lexer": "ipython2",
   "version": "2.7.6"
  }
 },
 "nbformat": 4,
 "nbformat_minor": 5
}
